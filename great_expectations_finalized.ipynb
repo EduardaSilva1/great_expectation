{
 "cells": [
  {
   "cell_type": "code",
   "execution_count": 1,
   "metadata": {},
   "outputs": [
    {
     "name": "stdout",
     "output_type": "stream",
     "text": [
      "Defaulting to user installation because normal site-packages is not writeableNote: you may need to restart the kernel to use updated packages.\n",
      "\n",
      "Requirement already satisfied: great_expectations in c:\\users\\eduarda.silva_cortex\\appdata\\local\\packages\\pythonsoftwarefoundation.python.3.12_qbz5n2kfra8p0\\localcache\\local-packages\\python312\\site-packages (1.1.3)\n",
      "Requirement already satisfied: pandas in c:\\users\\eduarda.silva_cortex\\appdata\\local\\packages\\pythonsoftwarefoundation.python.3.12_qbz5n2kfra8p0\\localcache\\local-packages\\python312\\site-packages (2.1.4)\n",
      "Requirement already satisfied: altair<5.0.0,>=4.2.1 in c:\\users\\eduarda.silva_cortex\\appdata\\local\\packages\\pythonsoftwarefoundation.python.3.12_qbz5n2kfra8p0\\localcache\\local-packages\\python312\\site-packages (from great_expectations) (4.2.2)\n",
      "Requirement already satisfied: cryptography>=3.2 in c:\\users\\eduarda.silva_cortex\\appdata\\local\\packages\\pythonsoftwarefoundation.python.3.12_qbz5n2kfra8p0\\localcache\\local-packages\\python312\\site-packages (from great_expectations) (42.0.8)\n",
      "Requirement already satisfied: jinja2>=2.10 in c:\\users\\eduarda.silva_cortex\\appdata\\local\\packages\\pythonsoftwarefoundation.python.3.12_qbz5n2kfra8p0\\localcache\\local-packages\\python312\\site-packages (from great_expectations) (3.1.4)\n",
      "Requirement already satisfied: jsonschema>=2.5.1 in c:\\users\\eduarda.silva_cortex\\appdata\\local\\packages\\pythonsoftwarefoundation.python.3.12_qbz5n2kfra8p0\\localcache\\local-packages\\python312\\site-packages (from great_expectations) (4.23.0)\n",
      "Requirement already satisfied: marshmallow<4.0.0,>=3.7.1 in c:\\users\\eduarda.silva_cortex\\appdata\\local\\packages\\pythonsoftwarefoundation.python.3.12_qbz5n2kfra8p0\\localcache\\local-packages\\python312\\site-packages (from great_expectations) (3.23.0)\n",
      "Requirement already satisfied: mistune>=0.8.4 in c:\\users\\eduarda.silva_cortex\\appdata\\local\\packages\\pythonsoftwarefoundation.python.3.12_qbz5n2kfra8p0\\localcache\\local-packages\\python312\\site-packages (from great_expectations) (3.0.2)\n",
      "Requirement already satisfied: packaging in c:\\users\\eduarda.silva_cortex\\appdata\\local\\packages\\pythonsoftwarefoundation.python.3.12_qbz5n2kfra8p0\\localcache\\local-packages\\python312\\site-packages (from great_expectations) (24.1)\n",
      "Requirement already satisfied: posthog<3,>=2.1.0 in c:\\users\\eduarda.silva_cortex\\appdata\\local\\packages\\pythonsoftwarefoundation.python.3.12_qbz5n2kfra8p0\\localcache\\local-packages\\python312\\site-packages (from great_expectations) (2.5.0)\n",
      "Requirement already satisfied: pydantic>=1.10.7 in c:\\users\\eduarda.silva_cortex\\appdata\\local\\packages\\pythonsoftwarefoundation.python.3.12_qbz5n2kfra8p0\\localcache\\local-packages\\python312\\site-packages (from great_expectations) (2.9.2)\n",
      "Requirement already satisfied: pyparsing>=2.4 in c:\\users\\eduarda.silva_cortex\\appdata\\local\\packages\\pythonsoftwarefoundation.python.3.12_qbz5n2kfra8p0\\localcache\\local-packages\\python312\\site-packages (from great_expectations) (3.1.4)\n",
      "Requirement already satisfied: python-dateutil>=2.8.1 in c:\\users\\eduarda.silva_cortex\\appdata\\local\\packages\\pythonsoftwarefoundation.python.3.12_qbz5n2kfra8p0\\localcache\\local-packages\\python312\\site-packages (from great_expectations) (2.9.0.post0)\n",
      "Requirement already satisfied: requests>=2.20 in c:\\users\\eduarda.silva_cortex\\appdata\\local\\packages\\pythonsoftwarefoundation.python.3.12_qbz5n2kfra8p0\\localcache\\local-packages\\python312\\site-packages (from great_expectations) (2.31.0)\n",
      "Requirement already satisfied: ruamel.yaml>=0.16 in c:\\users\\eduarda.silva_cortex\\appdata\\local\\packages\\pythonsoftwarefoundation.python.3.12_qbz5n2kfra8p0\\localcache\\local-packages\\python312\\site-packages (from great_expectations) (0.18.6)\n",
      "Requirement already satisfied: scipy>=1.6.0 in c:\\users\\eduarda.silva_cortex\\appdata\\local\\packages\\pythonsoftwarefoundation.python.3.12_qbz5n2kfra8p0\\localcache\\local-packages\\python312\\site-packages (from great_expectations) (1.14.1)\n",
      "Requirement already satisfied: tqdm>=4.59.0 in c:\\users\\eduarda.silva_cortex\\appdata\\local\\packages\\pythonsoftwarefoundation.python.3.12_qbz5n2kfra8p0\\localcache\\local-packages\\python312\\site-packages (from great_expectations) (4.66.2)\n",
      "Requirement already satisfied: typing-extensions>=4.1.0 in c:\\users\\eduarda.silva_cortex\\appdata\\local\\packages\\pythonsoftwarefoundation.python.3.12_qbz5n2kfra8p0\\localcache\\local-packages\\python312\\site-packages (from great_expectations) (4.11.0)\n",
      "Requirement already satisfied: tzlocal>=1.2 in c:\\users\\eduarda.silva_cortex\\appdata\\local\\packages\\pythonsoftwarefoundation.python.3.12_qbz5n2kfra8p0\\localcache\\local-packages\\python312\\site-packages (from great_expectations) (5.2)\n",
      "Requirement already satisfied: numpy>=1.22.4 in c:\\users\\eduarda.silva_cortex\\appdata\\local\\packages\\pythonsoftwarefoundation.python.3.12_qbz5n2kfra8p0\\localcache\\local-packages\\python312\\site-packages (from great_expectations) (1.26.4)\n",
      "Requirement already satisfied: pytz>=2020.1 in c:\\users\\eduarda.silva_cortex\\appdata\\local\\packages\\pythonsoftwarefoundation.python.3.12_qbz5n2kfra8p0\\localcache\\local-packages\\python312\\site-packages (from pandas) (2024.1)\n",
      "Requirement already satisfied: tzdata>=2022.1 in c:\\users\\eduarda.silva_cortex\\appdata\\local\\packages\\pythonsoftwarefoundation.python.3.12_qbz5n2kfra8p0\\localcache\\local-packages\\python312\\site-packages (from pandas) (2024.1)\n",
      "Requirement already satisfied: entrypoints in c:\\users\\eduarda.silva_cortex\\appdata\\local\\packages\\pythonsoftwarefoundation.python.3.12_qbz5n2kfra8p0\\localcache\\local-packages\\python312\\site-packages (from altair<5.0.0,>=4.2.1->great_expectations) (0.4)\n",
      "Requirement already satisfied: toolz in c:\\users\\eduarda.silva_cortex\\appdata\\local\\packages\\pythonsoftwarefoundation.python.3.12_qbz5n2kfra8p0\\localcache\\local-packages\\python312\\site-packages (from altair<5.0.0,>=4.2.1->great_expectations) (1.0.0)\n",
      "Requirement already satisfied: cffi>=1.12 in c:\\users\\eduarda.silva_cortex\\appdata\\local\\packages\\pythonsoftwarefoundation.python.3.12_qbz5n2kfra8p0\\localcache\\local-packages\\python312\\site-packages (from cryptography>=3.2->great_expectations) (1.16.0)\n",
      "Requirement already satisfied: MarkupSafe>=2.0 in c:\\users\\eduarda.silva_cortex\\appdata\\local\\packages\\pythonsoftwarefoundation.python.3.12_qbz5n2kfra8p0\\localcache\\local-packages\\python312\\site-packages (from jinja2>=2.10->great_expectations) (2.1.5)\n",
      "Requirement already satisfied: attrs>=22.2.0 in c:\\users\\eduarda.silva_cortex\\appdata\\local\\packages\\pythonsoftwarefoundation.python.3.12_qbz5n2kfra8p0\\localcache\\local-packages\\python312\\site-packages (from jsonschema>=2.5.1->great_expectations) (23.2.0)\n",
      "Requirement already satisfied: jsonschema-specifications>=2023.03.6 in c:\\users\\eduarda.silva_cortex\\appdata\\local\\packages\\pythonsoftwarefoundation.python.3.12_qbz5n2kfra8p0\\localcache\\local-packages\\python312\\site-packages (from jsonschema>=2.5.1->great_expectations) (2024.10.1)\n",
      "Requirement already satisfied: referencing>=0.28.4 in c:\\users\\eduarda.silva_cortex\\appdata\\local\\packages\\pythonsoftwarefoundation.python.3.12_qbz5n2kfra8p0\\localcache\\local-packages\\python312\\site-packages (from jsonschema>=2.5.1->great_expectations) (0.35.1)\n",
      "Requirement already satisfied: rpds-py>=0.7.1 in c:\\users\\eduarda.silva_cortex\\appdata\\local\\packages\\pythonsoftwarefoundation.python.3.12_qbz5n2kfra8p0\\localcache\\local-packages\\python312\\site-packages (from jsonschema>=2.5.1->great_expectations) (0.20.0)\n",
      "Requirement already satisfied: six>=1.5 in c:\\users\\eduarda.silva_cortex\\appdata\\local\\packages\\pythonsoftwarefoundation.python.3.12_qbz5n2kfra8p0\\localcache\\local-packages\\python312\\site-packages (from posthog<3,>=2.1.0->great_expectations) (1.16.0)\n",
      "Requirement already satisfied: monotonic>=1.5 in c:\\users\\eduarda.silva_cortex\\appdata\\local\\packages\\pythonsoftwarefoundation.python.3.12_qbz5n2kfra8p0\\localcache\\local-packages\\python312\\site-packages (from posthog<3,>=2.1.0->great_expectations) (1.6)\n",
      "Requirement already satisfied: backoff>=1.10.0 in c:\\users\\eduarda.silva_cortex\\appdata\\local\\packages\\pythonsoftwarefoundation.python.3.12_qbz5n2kfra8p0\\localcache\\local-packages\\python312\\site-packages (from posthog<3,>=2.1.0->great_expectations) (2.2.1)\n",
      "Requirement already satisfied: annotated-types>=0.6.0 in c:\\users\\eduarda.silva_cortex\\appdata\\local\\packages\\pythonsoftwarefoundation.python.3.12_qbz5n2kfra8p0\\localcache\\local-packages\\python312\\site-packages (from pydantic>=1.10.7->great_expectations) (0.7.0)\n",
      "Requirement already satisfied: pydantic-core==2.23.4 in c:\\users\\eduarda.silva_cortex\\appdata\\local\\packages\\pythonsoftwarefoundation.python.3.12_qbz5n2kfra8p0\\localcache\\local-packages\\python312\\site-packages (from pydantic>=1.10.7->great_expectations) (2.23.4)\n",
      "Requirement already satisfied: charset-normalizer<4,>=2 in c:\\users\\eduarda.silva_cortex\\appdata\\local\\packages\\pythonsoftwarefoundation.python.3.12_qbz5n2kfra8p0\\localcache\\local-packages\\python312\\site-packages (from requests>=2.20->great_expectations) (3.3.2)\n",
      "Requirement already satisfied: idna<4,>=2.5 in c:\\users\\eduarda.silva_cortex\\appdata\\local\\packages\\pythonsoftwarefoundation.python.3.12_qbz5n2kfra8p0\\localcache\\local-packages\\python312\\site-packages (from requests>=2.20->great_expectations) (3.6)\n",
      "Requirement already satisfied: urllib3<3,>=1.21.1 in c:\\users\\eduarda.silva_cortex\\appdata\\local\\packages\\pythonsoftwarefoundation.python.3.12_qbz5n2kfra8p0\\localcache\\local-packages\\python312\\site-packages (from requests>=2.20->great_expectations) (2.0.7)\n",
      "Requirement already satisfied: certifi>=2017.4.17 in c:\\users\\eduarda.silva_cortex\\appdata\\local\\packages\\pythonsoftwarefoundation.python.3.12_qbz5n2kfra8p0\\localcache\\local-packages\\python312\\site-packages (from requests>=2.20->great_expectations) (2024.2.2)\n",
      "Requirement already satisfied: ruamel.yaml.clib>=0.2.7 in c:\\users\\eduarda.silva_cortex\\appdata\\local\\packages\\pythonsoftwarefoundation.python.3.12_qbz5n2kfra8p0\\localcache\\local-packages\\python312\\site-packages (from ruamel.yaml>=0.16->great_expectations) (0.2.8)\n",
      "Requirement already satisfied: colorama in c:\\users\\eduarda.silva_cortex\\appdata\\local\\packages\\pythonsoftwarefoundation.python.3.12_qbz5n2kfra8p0\\localcache\\local-packages\\python312\\site-packages (from tqdm>=4.59.0->great_expectations) (0.4.6)\n",
      "Requirement already satisfied: pycparser in c:\\users\\eduarda.silva_cortex\\appdata\\local\\packages\\pythonsoftwarefoundation.python.3.12_qbz5n2kfra8p0\\localcache\\local-packages\\python312\\site-packages (from cffi>=1.12->cryptography>=3.2->great_expectations) (2.22)\n"
     ]
    }
   ],
   "source": [
    "pip install great_expectations pandas"
   ]
  },
  {
   "cell_type": "code",
   "execution_count": 2,
   "metadata": {},
   "outputs": [
    {
     "name": "stderr",
     "output_type": "stream",
     "text": [
      "'great_expectations' n�o � reconhecido como um comando interno\n",
      "ou externo, um programa oper�vel ou um arquivo em lotes.\n"
     ]
    }
   ],
   "source": [
    "!great_expectations --yes --v3-api init "
   ]
  },
  {
   "cell_type": "code",
   "execution_count": 3,
   "metadata": {},
   "outputs": [
    {
     "ename": "ImportError",
     "evalue": "cannot import name 'DataContext' from 'great_expectations.data_context' (C:\\Users\\eduarda.silva_cortex\\AppData\\Local\\Packages\\PythonSoftwareFoundation.Python.3.12_qbz5n2kfra8p0\\LocalCache\\local-packages\\Python312\\site-packages\\great_expectations\\data_context\\__init__.py)",
     "output_type": "error",
     "traceback": [
      "\u001b[1;31m---------------------------------------------------------------------------\u001b[0m",
      "\u001b[1;31mImportError\u001b[0m                               Traceback (most recent call last)",
      "Cell \u001b[1;32mIn[3], line 4\u001b[0m\n\u001b[0;32m      2\u001b[0m \u001b[38;5;28;01mimport\u001b[39;00m \u001b[38;5;21;01mpandas\u001b[39;00m \u001b[38;5;28;01mas\u001b[39;00m \u001b[38;5;21;01mpd\u001b[39;00m\n\u001b[0;32m      3\u001b[0m \u001b[38;5;28;01mfrom\u001b[39;00m \u001b[38;5;21;01mgreat_expectations\u001b[39;00m\u001b[38;5;21;01m.\u001b[39;00m\u001b[38;5;21;01mcore\u001b[39;00m\u001b[38;5;21;01m.\u001b[39;00m\u001b[38;5;21;01mbatch\u001b[39;00m \u001b[38;5;28;01mimport\u001b[39;00m RuntimeBatchRequest\n\u001b[1;32m----> 4\u001b[0m \u001b[38;5;28;01mfrom\u001b[39;00m \u001b[38;5;21;01mgreat_expectations\u001b[39;00m\u001b[38;5;21;01m.\u001b[39;00m\u001b[38;5;21;01mdata_context\u001b[39;00m \u001b[38;5;28;01mimport\u001b[39;00m DataContext\n\u001b[0;32m      6\u001b[0m context \u001b[38;5;241m=\u001b[39m DataContext(\u001b[38;5;124m\"\u001b[39m\u001b[38;5;124mcaminho/para/o/seu/diretorio/great_expectations\u001b[39m\u001b[38;5;124m\"\u001b[39m)\n",
      "\u001b[1;31mImportError\u001b[0m: cannot import name 'DataContext' from 'great_expectations.data_context' (C:\\Users\\eduarda.silva_cortex\\AppData\\Local\\Packages\\PythonSoftwareFoundation.Python.3.12_qbz5n2kfra8p0\\LocalCache\\local-packages\\Python312\\site-packages\\great_expectations\\data_context\\__init__.py)"
     ]
    }
   ],
   "source": [
    "import great_expectations as gx\n",
    "import pandas as pd\n",
    "from great_expectations.core.batch import RuntimeBatchRequest\n",
    "from great_expectations.data_context import DataContext\n",
    "\n",
    "context = DataContext(\"caminho/para/o/seu/diretorio/great_expectations\")\n"
   ]
  },
  {
   "cell_type": "code",
   "execution_count": 12,
   "metadata": {},
   "outputs": [
    {
     "name": "stderr",
     "output_type": "stream",
     "text": [
      "C:\\Users\\eduarda.silva_cortex\\AppData\\Local\\Packages\\PythonSoftwareFoundation.Python.3.12_qbz5n2kfra8p0\\LocalCache\\local-packages\\Python312\\site-packages\\openpyxl\\packaging\\core.py:99: DeprecationWarning: datetime.datetime.utcnow() is deprecated and scheduled for removal in a future version. Use timezone-aware objects to represent datetimes in UTC: datetime.datetime.now(datetime.UTC).\n",
      "  now = datetime.datetime.utcnow()\n",
      "C:\\Users\\eduarda.silva_cortex\\AppData\\Local\\Packages\\PythonSoftwareFoundation.Python.3.12_qbz5n2kfra8p0\\LocalCache\\local-packages\\Python312\\site-packages\\openpyxl\\packaging\\core.py:99: DeprecationWarning: datetime.datetime.utcnow() is deprecated and scheduled for removal in a future version. Use timezone-aware objects to represent datetimes in UTC: datetime.datetime.now(datetime.UTC).\n",
      "  now = datetime.datetime.utcnow()\n"
     ]
    }
   ],
   "source": [
    "df_dados_cadastrais = pd.read_excel(\"outubro_enriquecimento_cnpj_br_baby_kids_cnpj.xlsx\", sheet_name=\"Dados Cadastrais\")\n",
    "df_socios = pd.read_excel(\"outubro_enriquecimento_cnpj_br_baby_kids_cnpj.xlsx\", sheet_name=\"Sócios\")"
   ]
  },
  {
   "cell_type": "code",
   "execution_count": 13,
   "metadata": {},
   "outputs": [
    {
     "name": "stderr",
     "output_type": "stream",
     "text": [
      "C:\\Users\\eduarda.silva_cortex\\AppData\\Local\\Packages\\PythonSoftwareFoundation.Python.3.12_qbz5n2kfra8p0\\LocalCache\\local-packages\\Python312\\site-packages\\posthog\\client.py:310: DeprecationWarning: datetime.datetime.utcnow() is deprecated and scheduled for removal in a future version. Use timezone-aware objects to represent datetimes in UTC: datetime.datetime.now(datetime.UTC).\n",
      "  timestamp = datetime.utcnow().replace(tzinfo=tzutc())\n"
     ]
    }
   ],
   "source": [
    "context = gx.get_context()\n",
    "\n",
    "suite_name = 'ge_suite'\n",
    "data_asset_name = 'your_data_asset_name'\n",
    "batch_id = 'your_batch_id'\n",
    "checkpoint_name = 'your_checkpoint_name'\n"
   ]
  },
  {
   "cell_type": "code",
   "execution_count": 14,
   "metadata": {},
   "outputs": [
    {
     "name": "stdout",
     "output_type": "stream",
     "text": [
      "Successfully migrated to FileDataContext!\n"
     ]
    }
   ],
   "source": [
    "if isinstance(context, EphemeralDataContext):\n",
    "    context.convert_to_file_context()"
   ]
  },
  {
   "cell_type": "code",
   "execution_count": 15,
   "metadata": {},
   "outputs": [],
   "source": [
    "batch_request = RuntimeBatchRequest(datasource_name=\"my_datasource_name\", \n",
    "                                    data_connector_name=\"default_runtime_data_connector_name\",\n",
    "                                    data_asset_name=data_asset_name,\n",
    "                                    runtime_parameters={\"batch_data\": df_socios},\n",
    "                                    batch_identifiers={\"default_identifier_name\": batch_id}, )\n"
   ]
  },
  {
   "cell_type": "code",
   "execution_count": 16,
   "metadata": {},
   "outputs": [],
   "source": [
    "import os\n",
    "\n",
    "checkpoint_path = os.path.abspath(f'./gx/checkpoints/{checkpoint_name}.yml')\n",
    "checkpoint_yml = f'''\n",
    "name: {checkpoint_name}\n",
    "config_version: 1\n",
    "class_name: SimpleCheckpoint\n",
    "expectation_suite_name: {suite_name}\n",
    "'''\n",
    "with open(checkpoint_path, 'w') as f:\n",
    "    f.write(checkpoint_yml)"
   ]
  },
  {
   "cell_type": "code",
   "execution_count": 18,
   "metadata": {},
   "outputs": [
    {
     "ename": "AttributeError",
     "evalue": "'EphemeralDataContext' object has no attribute 'run_validation_operator'",
     "output_type": "error",
     "traceback": [
      "\u001b[1;31m---------------------------------------------------------------------------\u001b[0m",
      "\u001b[1;31mAttributeError\u001b[0m                            Traceback (most recent call last)",
      "Cell \u001b[1;32mIn[18], line 1\u001b[0m\n\u001b[1;32m----> 1\u001b[0m results \u001b[38;5;241m=\u001b[39m \u001b[43mcontext\u001b[49m\u001b[38;5;241;43m.\u001b[39;49m\u001b[43mrun_validation_operator\u001b[49m(\n\u001b[0;32m      2\u001b[0m     validation_operator_name\u001b[38;5;241m=\u001b[39m\u001b[38;5;124m\"\u001b[39m\u001b[38;5;124maction_list_operator\u001b[39m\u001b[38;5;124m\"\u001b[39m,\n\u001b[0;32m      3\u001b[0m     assets_to_validate\u001b[38;5;241m=\u001b[39m[batch],\n\u001b[0;32m      4\u001b[0m     run_id\u001b[38;5;241m=\u001b[39m\u001b[38;5;124m\"\u001b[39m\u001b[38;5;124mmanual_validation\u001b[39m\u001b[38;5;124m\"\u001b[39m\n\u001b[0;32m      5\u001b[0m )\n",
      "\u001b[1;31mAttributeError\u001b[0m: 'EphemeralDataContext' object has no attribute 'run_validation_operator'"
     ]
    }
   ],
   "source": [
    "results = context.run_validation_operator(\n",
    "    validation_operator_name=\"action_list_operator\",\n",
    "    assets_to_validate=[batch],\n",
    "    run_id=\"manual_validation\"\n",
    ")\n"
   ]
  },
  {
   "cell_type": "code",
   "execution_count": 9,
   "metadata": {},
   "outputs": [],
   "source": [
    "df = pd.DataFrame(\n",
    "    {\n",
    "        \"ID\": [1, 2, 3, 4, 5],\n",
    "        \"produto\": [\"Laptop\", \"Celular\", \"Tablet\", \"Fone de Ouvido\", \"Monitor\"],\n",
    "        \"quantidade\": [10, 5, 7, 3, 1],\n",
    "        \"preco_unitario\": [1500.00, 800.00, 500.00, 100.00, 600.00],\n",
    "        \"passenger_count\": [3, 5, 2, 4, 6]\n",
    "    }\n",
    ")"
   ]
  },
  {
   "cell_type": "markdown",
   "metadata": {},
   "source": [
    "## Lista de pré expectativas\n",
    "- CNPJ - unique\n",
    "- CNPJ - formato??\n",
    "- SOCIO1 - not null\n",
    "- SOCIO1_TELEFONE_1 - percent\n",
    "- SOCIO1_WHATSAPP_1 - percent true\n",
    "- SOCIO1_TELEFONE_2 - exists\n",
    "- SOCIO1_WHATSAPP_2 - exists\n",
    "- SOCIO2 - percent not null\n",
    "- SOCIO2_TELEFONE_1 - percent\n",
    "- SOCIO2_WHATSAPP_1 - percent true\n",
    "- SOCIO2_TELEFONE_2 - exists\n",
    "- SOCIO2_WHATSAPP_2 - exists\n",
    ".\n",
    ".\n",
    "."
   ]
  },
  {
   "cell_type": "code",
   "execution_count": 11,
   "metadata": {},
   "outputs": [
    {
     "ename": "NameError",
     "evalue": "name 'df_socios' is not defined",
     "output_type": "error",
     "traceback": [
      "\u001b[1;31m---------------------------------------------------------------------------\u001b[0m",
      "\u001b[1;31mNameError\u001b[0m                                 Traceback (most recent call last)",
      "Cell \u001b[1;32mIn[11], line 2\u001b[0m\n\u001b[0;32m      1\u001b[0m \u001b[38;5;66;03m# df_dados_cadastrais\u001b[39;00m\n\u001b[1;32m----> 2\u001b[0m \u001b[43mdf_socios\u001b[49m\n",
      "\u001b[1;31mNameError\u001b[0m: name 'df_socios' is not defined"
     ]
    }
   ],
   "source": [
    "# df_dados_cadastrais\n",
    "df_socios"
   ]
  },
  {
   "cell_type": "code",
   "execution_count": 12,
   "metadata": {},
   "outputs": [
    {
     "name": "stderr",
     "output_type": "stream",
     "text": [
      "C:\\Users\\eduarda.silva_cortex\\AppData\\Local\\Packages\\PythonSoftwareFoundation.Python.3.12_qbz5n2kfra8p0\\LocalCache\\local-packages\\Python312\\site-packages\\posthog\\request.py:26: DeprecationWarning: datetime.datetime.utcnow() is deprecated and scheduled for removal in a future version. Use timezone-aware objects to represent datetimes in UTC: datetime.datetime.now(datetime.UTC).\n",
      "  body[\"sentAt\"] = datetime.utcnow().replace(tzinfo=tzutc()).isoformat()\n"
     ]
    }
   ],
   "source": [
    "context = gx.get_context()\n",
    "data_source = context.data_sources.add_pandas(name=\"pandas_source\")\n",
    "data_asset = data_source.add_dataframe_asset(name=\"df_asset\")\n",
    "batch_definition = data_asset.add_batch_definition_whole_dataframe(\n",
    "    \"batch_definition_name\"\n",
    ")\n",
    "batch = batch_definition.get_batch(batch_parameters={\"dataframe\": df})"
   ]
  },
  {
   "cell_type": "code",
   "execution_count": 13,
   "metadata": {},
   "outputs": [],
   "source": [
    "# expectation = gx.expectations.ExpectColumnValuesToBeNull(\n",
    "# )\n",
    "context.open_data_docs()"
   ]
  },
  {
   "cell_type": "code",
   "execution_count": 14,
   "metadata": {},
   "outputs": [
    {
     "name": "stderr",
     "output_type": "stream",
     "text": [
      "Calculating Metrics: 100%|██████████| 10/10 [00:00<00:00, 311.80it/s]"
     ]
    },
    {
     "name": "stdout",
     "output_type": "stream",
     "text": [
      "{\n",
      "  \"success\": false,\n",
      "  \"expectation_config\": {\n",
      "    \"type\": \"expect_column_values_to_be_between\",\n",
      "    \"kwargs\": {\n",
      "      \"batch_id\": \"pandas_source-df_asset\",\n",
      "      \"column\": \"quantidade\",\n",
      "      \"min_value\": 0.0,\n",
      "      \"max_value\": 9.0\n",
      "    },\n",
      "    \"meta\": {}\n",
      "  },\n",
      "  \"result\": {\n",
      "    \"element_count\": 5,\n",
      "    \"unexpected_count\": 1,\n",
      "    \"unexpected_percent\": 20.0,\n",
      "    \"partial_unexpected_list\": [\n",
      "      10\n",
      "    ],\n",
      "    \"missing_count\": 0,\n",
      "    \"missing_percent\": 0.0,\n",
      "    \"unexpected_percent_total\": 20.0,\n",
      "    \"unexpected_percent_nonmissing\": 20.0,\n",
      "    \"partial_unexpected_counts\": [\n",
      "      {\n",
      "        \"value\": 10,\n",
      "        \"count\": 1\n",
      "      }\n",
      "    ],\n",
      "    \"partial_unexpected_index_list\": [\n",
      "      0\n",
      "    ]\n",
      "  },\n",
      "  \"meta\": {},\n",
      "  \"exception_info\": {\n",
      "    \"raised_exception\": false,\n",
      "    \"exception_traceback\": null,\n",
      "    \"exception_message\": null\n",
      "  }\n",
      "}\n"
     ]
    },
    {
     "name": "stderr",
     "output_type": "stream",
     "text": [
      "\n"
     ]
    }
   ],
   "source": [
    "expectation = gx.expectations.ExpectColumnValuesToBeBetween(\n",
    "    column=\"quantidade\", min_value=0, max_value=9\n",
    ")\n",
    "validation_results = batch.validate(expectation)\n",
    "print(validation_results)"
   ]
  },
  {
   "cell_type": "code",
   "execution_count": 16,
   "metadata": {},
   "outputs": [
    {
     "ename": "DataContextError",
     "evalue": "Cannot add ExpectationSuite with name my_expectation_suite because it already exists.",
     "output_type": "error",
     "traceback": [
      "\u001b[1;31m---------------------------------------------------------------------------\u001b[0m",
      "\u001b[1;31mDataContextError\u001b[0m                          Traceback (most recent call last)",
      "Cell \u001b[1;32mIn[16], line 3\u001b[0m\n\u001b[0;32m      1\u001b[0m suite_name \u001b[38;5;241m=\u001b[39m \u001b[38;5;124m\"\u001b[39m\u001b[38;5;124mmy_expectation_suite\u001b[39m\u001b[38;5;124m\"\u001b[39m\n\u001b[0;32m      2\u001b[0m suite \u001b[38;5;241m=\u001b[39m gx\u001b[38;5;241m.\u001b[39mExpectationSuite(name\u001b[38;5;241m=\u001b[39msuite_name)\n\u001b[1;32m----> 3\u001b[0m suite \u001b[38;5;241m=\u001b[39m \u001b[43mcontext\u001b[49m\u001b[38;5;241;43m.\u001b[39;49m\u001b[43msuites\u001b[49m\u001b[38;5;241;43m.\u001b[39;49m\u001b[43madd\u001b[49m\u001b[43m(\u001b[49m\u001b[43msuite\u001b[49m\u001b[43m)\u001b[49m\n\u001b[0;32m      4\u001b[0m suite\u001b[38;5;241m.\u001b[39madd_expectation(\n\u001b[0;32m      5\u001b[0m     gx\u001b[38;5;241m.\u001b[39mexpectations\u001b[38;5;241m.\u001b[39mExpectColumnValuesToBeBetween(column\u001b[38;5;241m=\u001b[39m\u001b[38;5;124m\"\u001b[39m\u001b[38;5;124mquantidade\u001b[39m\u001b[38;5;124m\"\u001b[39m, min_value\u001b[38;5;241m=\u001b[39m\u001b[38;5;241m0\u001b[39m, max_value\u001b[38;5;241m=\u001b[39m\u001b[38;5;241m9\u001b[39m)\n\u001b[0;32m      6\u001b[0m )\n\u001b[0;32m      8\u001b[0m definition_name \u001b[38;5;241m=\u001b[39m \u001b[38;5;124m\"\u001b[39m\u001b[38;5;124mmy_validation_definition\u001b[39m\u001b[38;5;124m\"\u001b[39m\n",
      "File \u001b[1;32m~\\AppData\\Local\\Packages\\PythonSoftwareFoundation.Python.3.12_qbz5n2kfra8p0\\LocalCache\\local-packages\\Python312\\site-packages\\great_expectations\\core\\factory\\suite_factory.py:44\u001b[0m, in \u001b[0;36mSuiteFactory.add\u001b[1;34m(self, suite)\u001b[0m\n\u001b[0;32m     42\u001b[0m key \u001b[38;5;241m=\u001b[39m \u001b[38;5;28mself\u001b[39m\u001b[38;5;241m.\u001b[39m_store\u001b[38;5;241m.\u001b[39mget_key(name\u001b[38;5;241m=\u001b[39msuite\u001b[38;5;241m.\u001b[39mname, \u001b[38;5;28mid\u001b[39m\u001b[38;5;241m=\u001b[39m\u001b[38;5;28;01mNone\u001b[39;00m)\n\u001b[0;32m     43\u001b[0m \u001b[38;5;28;01mif\u001b[39;00m \u001b[38;5;28mself\u001b[39m\u001b[38;5;241m.\u001b[39m_store\u001b[38;5;241m.\u001b[39mhas_key(key\u001b[38;5;241m=\u001b[39mkey):\n\u001b[1;32m---> 44\u001b[0m     \u001b[38;5;28;01mraise\u001b[39;00m DataContextError(  \u001b[38;5;66;03m# noqa: TRY003\u001b[39;00m\n\u001b[0;32m     45\u001b[0m         \u001b[38;5;124mf\u001b[39m\u001b[38;5;124m\"\u001b[39m\u001b[38;5;124mCannot add ExpectationSuite with name \u001b[39m\u001b[38;5;132;01m{\u001b[39;00msuite\u001b[38;5;241m.\u001b[39mname\u001b[38;5;132;01m}\u001b[39;00m\u001b[38;5;124m because it already exists.\u001b[39m\u001b[38;5;124m\"\u001b[39m\n\u001b[0;32m     46\u001b[0m     )\n\u001b[0;32m     47\u001b[0m \u001b[38;5;28mself\u001b[39m\u001b[38;5;241m.\u001b[39m_store\u001b[38;5;241m.\u001b[39madd(key\u001b[38;5;241m=\u001b[39mkey, value\u001b[38;5;241m=\u001b[39msuite)\n\u001b[0;32m     49\u001b[0m submit_event(\n\u001b[0;32m     50\u001b[0m     event\u001b[38;5;241m=\u001b[39mExpectationSuiteCreatedEvent(\n\u001b[0;32m     51\u001b[0m         expectation_suite_id\u001b[38;5;241m=\u001b[39msuite\u001b[38;5;241m.\u001b[39mid,\n\u001b[0;32m     52\u001b[0m     )\n\u001b[0;32m     53\u001b[0m )\n",
      "\u001b[1;31mDataContextError\u001b[0m: Cannot add ExpectationSuite with name my_expectation_suite because it already exists."
     ]
    }
   ],
   "source": [
    "suite_name = \"my_expectation_suite\"\n",
    "suite = gx.ExpectationSuite(name=suite_name)\n",
    "suite = context.suites.add(suite)\n",
    "suite.add_expectation(\n",
    "    gx.expectations.ExpectColumnValuesToBeBetween(column=\"quantidade\", min_value=0, max_value=9)\n",
    ")\n",
    "\n",
    "definition_name = \"my_validation_definition\"\n",
    "validation_definition = gx.ValidationDefinition(\n",
    "    data=batch_definition, suite=suite, name=definition_name\n",
    ")\n",
    "\n",
    "# context.build_data_docs(resource_identifiers=[validation_results])[\"local_site\"]"
   ]
  },
  {
   "cell_type": "code",
   "execution_count": 13,
   "metadata": {},
   "outputs": [],
   "source": [
    "validation_definition = context.validation_definitions.get(definition_name)"
   ]
  },
  {
   "cell_type": "code",
   "execution_count": 14,
   "metadata": {},
   "outputs": [
    {
     "ename": "BuildBatchRequestError",
     "evalue": "Bad input to build_batch_request: options must contain exactly 1 key, 'dataframe'.",
     "output_type": "error",
     "traceback": [
      "\u001b[0;31m---------------------------------------------------------------------------\u001b[0m",
      "\u001b[0;31mBuildBatchRequestError\u001b[0m                    Traceback (most recent call last)",
      "Input \u001b[0;32mIn [14]\u001b[0m, in \u001b[0;36m<cell line: 1>\u001b[0;34m()\u001b[0m\n\u001b[0;32m----> 1\u001b[0m validation_results \u001b[38;5;241m=\u001b[39m \u001b[43mvalidation_definition\u001b[49m\u001b[38;5;241;43m.\u001b[39;49m\u001b[43mrun\u001b[49m\u001b[43m(\u001b[49m\u001b[43m)\u001b[49m\n",
      "File \u001b[0;32m~/Codes/data-gathering-dag/venv/lib/python3.9/site-packages/great_expectations/core/validation_definition.py:289\u001b[0m, in \u001b[0;36mValidationDefinition.run\u001b[0;34m(self, checkpoint_id, batch_parameters, expectation_parameters, result_format, run_id)\u001b[0m\n\u001b[1;32m    282\u001b[0m         diagnostics\u001b[38;5;241m.\u001b[39mraise_for_error()\n\u001b[1;32m    284\u001b[0m validator \u001b[38;5;241m=\u001b[39m Validator(\n\u001b[1;32m    285\u001b[0m     batch_definition\u001b[38;5;241m=\u001b[39m\u001b[38;5;28mself\u001b[39m\u001b[38;5;241m.\u001b[39mbatch_definition,\n\u001b[1;32m    286\u001b[0m     batch_parameters\u001b[38;5;241m=\u001b[39mbatch_parameters,\n\u001b[1;32m    287\u001b[0m     result_format\u001b[38;5;241m=\u001b[39mresult_format,\n\u001b[1;32m    288\u001b[0m )\n\u001b[0;32m--> 289\u001b[0m results \u001b[38;5;241m=\u001b[39m \u001b[43mvalidator\u001b[49m\u001b[38;5;241;43m.\u001b[39;49m\u001b[43mvalidate_expectation_suite\u001b[49m\u001b[43m(\u001b[49m\u001b[38;5;28;43mself\u001b[39;49m\u001b[38;5;241;43m.\u001b[39;49m\u001b[43msuite\u001b[49m\u001b[43m,\u001b[49m\u001b[43m \u001b[49m\u001b[43mexpectation_parameters\u001b[49m\u001b[43m)\u001b[49m\n\u001b[1;32m    290\u001b[0m results\u001b[38;5;241m.\u001b[39mmeta[\u001b[38;5;124m\"\u001b[39m\u001b[38;5;124mvalidation_id\u001b[39m\u001b[38;5;124m\"\u001b[39m] \u001b[38;5;241m=\u001b[39m \u001b[38;5;28mself\u001b[39m\u001b[38;5;241m.\u001b[39mid\n\u001b[1;32m    291\u001b[0m results\u001b[38;5;241m.\u001b[39mmeta[\u001b[38;5;124m\"\u001b[39m\u001b[38;5;124mcheckpoint_id\u001b[39m\u001b[38;5;124m\"\u001b[39m] \u001b[38;5;241m=\u001b[39m checkpoint_id\n",
      "File \u001b[0;32m~/Codes/data-gathering-dag/venv/lib/python3.9/site-packages/great_expectations/validator/v1_validator.py:71\u001b[0m, in \u001b[0;36mValidator.validate_expectation_suite\u001b[0;34m(self, expectation_suite, expectation_parameters)\u001b[0m\n\u001b[1;32m     65\u001b[0m \u001b[38;5;28;01mdef\u001b[39;00m \u001b[38;5;21mvalidate_expectation_suite\u001b[39m(\n\u001b[1;32m     66\u001b[0m     \u001b[38;5;28mself\u001b[39m,\n\u001b[1;32m     67\u001b[0m     expectation_suite: ExpectationSuite,\n\u001b[1;32m     68\u001b[0m     expectation_parameters: Optional[SuiteParameterDict] \u001b[38;5;241m=\u001b[39m \u001b[38;5;28;01mNone\u001b[39;00m,\n\u001b[1;32m     69\u001b[0m ) \u001b[38;5;241m-\u001b[39m\u001b[38;5;241m>\u001b[39m ExpectationSuiteValidationResult:\n\u001b[1;32m     70\u001b[0m     \u001b[38;5;124;03m\"\"\"Run an expectation suite against the batch definition\"\"\"\u001b[39;00m\n\u001b[0;32m---> 71\u001b[0m     results \u001b[38;5;241m=\u001b[39m \u001b[38;5;28;43mself\u001b[39;49m\u001b[38;5;241;43m.\u001b[39;49m\u001b[43m_validate_expectation_configs\u001b[49m\u001b[43m(\u001b[49m\n\u001b[1;32m     72\u001b[0m \u001b[43m        \u001b[49m\u001b[43mexpectation_configs\u001b[49m\u001b[38;5;241;43m=\u001b[39;49m\u001b[43mexpectation_suite\u001b[49m\u001b[38;5;241;43m.\u001b[39;49m\u001b[43mexpectation_configurations\u001b[49m\u001b[43m,\u001b[49m\n\u001b[1;32m     73\u001b[0m \u001b[43m        \u001b[49m\u001b[43mexpectation_parameters\u001b[49m\u001b[38;5;241;43m=\u001b[39;49m\u001b[43mexpectation_parameters\u001b[49m\u001b[43m,\u001b[49m\n\u001b[1;32m     74\u001b[0m \u001b[43m    \u001b[49m\u001b[43m)\u001b[49m\n\u001b[1;32m     75\u001b[0m     statistics \u001b[38;5;241m=\u001b[39m calc_validation_statistics(results)\n\u001b[1;32m     77\u001b[0m     \u001b[38;5;28;01mreturn\u001b[39;00m ExpectationSuiteValidationResult(\n\u001b[1;32m     78\u001b[0m         results\u001b[38;5;241m=\u001b[39mresults,\n\u001b[1;32m     79\u001b[0m         success\u001b[38;5;241m=\u001b[39mstatistics\u001b[38;5;241m.\u001b[39msuccess,\n\u001b[0;32m   (...)\u001b[0m\n\u001b[1;32m     99\u001b[0m         batch_id\u001b[38;5;241m=\u001b[39m\u001b[38;5;28mself\u001b[39m\u001b[38;5;241m.\u001b[39mactive_batch_id,\n\u001b[1;32m    100\u001b[0m     )\n",
      "File \u001b[0;32m~/Codes/data-gathering-dag/venv/lib/python3.9/site-packages/great_expectations/validator/v1_validator.py:123\u001b[0m, in \u001b[0;36mValidator._validate_expectation_configs\u001b[0;34m(self, expectation_configs, expectation_parameters)\u001b[0m\n\u001b[1;32m    117\u001b[0m \u001b[38;5;28;01mdef\u001b[39;00m \u001b[38;5;21m_validate_expectation_configs\u001b[39m(\n\u001b[1;32m    118\u001b[0m     \u001b[38;5;28mself\u001b[39m,\n\u001b[1;32m    119\u001b[0m     expectation_configs: \u001b[38;5;28mlist\u001b[39m[ExpectationConfiguration],\n\u001b[1;32m    120\u001b[0m     expectation_parameters: Optional[SuiteParameterDict] \u001b[38;5;241m=\u001b[39m \u001b[38;5;28;01mNone\u001b[39;00m,\n\u001b[1;32m    121\u001b[0m ) \u001b[38;5;241m-\u001b[39m\u001b[38;5;241m>\u001b[39m \u001b[38;5;28mlist\u001b[39m[ExpectationValidationResult]:\n\u001b[1;32m    122\u001b[0m     \u001b[38;5;124;03m\"\"\"Run a list of expectation configurations against the batch definition\"\"\"\u001b[39;00m\n\u001b[0;32m--> 123\u001b[0m     processed_expectation_configs \u001b[38;5;241m=\u001b[39m \u001b[38;5;28;43mself\u001b[39;49m\u001b[38;5;241;43m.\u001b[39;49m\u001b[43m_wrapped_validator\u001b[49m\u001b[38;5;241m.\u001b[39mprocess_expectations_for_validation(\n\u001b[1;32m    124\u001b[0m         expectation_configs, expectation_parameters\n\u001b[1;32m    125\u001b[0m     )\n\u001b[1;32m    127\u001b[0m     runtime_configuration: \u001b[38;5;28mdict\u001b[39m\n\u001b[1;32m    128\u001b[0m     \u001b[38;5;28;01mif\u001b[39;00m \u001b[38;5;28misinstance\u001b[39m(\u001b[38;5;28mself\u001b[39m\u001b[38;5;241m.\u001b[39mresult_format, ResultFormat):\n",
      "File \u001b[0;32m~/.pyenv/versions/3.9.12/lib/python3.9/functools.py:993\u001b[0m, in \u001b[0;36mcached_property.__get__\u001b[0;34m(self, instance, owner)\u001b[0m\n\u001b[1;32m    991\u001b[0m val \u001b[38;5;241m=\u001b[39m cache\u001b[38;5;241m.\u001b[39mget(\u001b[38;5;28mself\u001b[39m\u001b[38;5;241m.\u001b[39mattrname, _NOT_FOUND)\n\u001b[1;32m    992\u001b[0m \u001b[38;5;28;01mif\u001b[39;00m val \u001b[38;5;129;01mis\u001b[39;00m _NOT_FOUND:\n\u001b[0;32m--> 993\u001b[0m     val \u001b[38;5;241m=\u001b[39m \u001b[38;5;28;43mself\u001b[39;49m\u001b[38;5;241;43m.\u001b[39;49m\u001b[43mfunc\u001b[49m\u001b[43m(\u001b[49m\u001b[43minstance\u001b[49m\u001b[43m)\u001b[49m\n\u001b[1;32m    994\u001b[0m     \u001b[38;5;28;01mtry\u001b[39;00m:\n\u001b[1;32m    995\u001b[0m         cache[\u001b[38;5;28mself\u001b[39m\u001b[38;5;241m.\u001b[39mattrname] \u001b[38;5;241m=\u001b[39m val\n",
      "File \u001b[0;32m~/Codes/data-gathering-dag/venv/lib/python3.9/site-packages/great_expectations/validator/v1_validator.py:112\u001b[0m, in \u001b[0;36mValidator._wrapped_validator\u001b[0;34m(self)\u001b[0m\n\u001b[1;32m    110\u001b[0m \u001b[38;5;129m@cached_property\u001b[39m\n\u001b[1;32m    111\u001b[0m \u001b[38;5;28;01mdef\u001b[39;00m \u001b[38;5;21m_wrapped_validator\u001b[39m(\u001b[38;5;28mself\u001b[39m) \u001b[38;5;241m-\u001b[39m\u001b[38;5;241m>\u001b[39m OldValidator:\n\u001b[0;32m--> 112\u001b[0m     batch_request \u001b[38;5;241m=\u001b[39m \u001b[38;5;28;43mself\u001b[39;49m\u001b[38;5;241;43m.\u001b[39;49m\u001b[43m_batch_definition\u001b[49m\u001b[38;5;241;43m.\u001b[39;49m\u001b[43mbuild_batch_request\u001b[49m\u001b[43m(\u001b[49m\n\u001b[1;32m    113\u001b[0m \u001b[43m        \u001b[49m\u001b[43mbatch_parameters\u001b[49m\u001b[38;5;241;43m=\u001b[39;49m\u001b[38;5;28;43mself\u001b[39;49m\u001b[38;5;241;43m.\u001b[39;49m\u001b[43m_batch_parameters\u001b[49m\n\u001b[1;32m    114\u001b[0m \u001b[43m    \u001b[49m\u001b[43m)\u001b[49m\n\u001b[1;32m    115\u001b[0m     \u001b[38;5;28;01mreturn\u001b[39;00m \u001b[38;5;28mself\u001b[39m\u001b[38;5;241m.\u001b[39m_get_validator(batch_request\u001b[38;5;241m=\u001b[39mbatch_request)\n",
      "File \u001b[0;32m~/Codes/data-gathering-dag/venv/lib/python3.9/site-packages/great_expectations/core/batch_definition.py:64\u001b[0m, in \u001b[0;36mBatchDefinition.build_batch_request\u001b[0;34m(self, batch_parameters)\u001b[0m\n\u001b[1;32m     60\u001b[0m \u001b[38;5;28;01mdef\u001b[39;00m \u001b[38;5;21mbuild_batch_request\u001b[39m(\n\u001b[1;32m     61\u001b[0m     \u001b[38;5;28mself\u001b[39m, batch_parameters: Optional[BatchParameters] \u001b[38;5;241m=\u001b[39m \u001b[38;5;28;01mNone\u001b[39;00m\n\u001b[1;32m     62\u001b[0m ) \u001b[38;5;241m-\u001b[39m\u001b[38;5;241m>\u001b[39m BatchRequest[PartitionerT]:\n\u001b[1;32m     63\u001b[0m     \u001b[38;5;124;03m\"\"\"Build a BatchRequest from the asset and batch parameters.\"\"\"\u001b[39;00m\n\u001b[0;32m---> 64\u001b[0m     \u001b[38;5;28;01mreturn\u001b[39;00m \u001b[38;5;28;43mself\u001b[39;49m\u001b[38;5;241;43m.\u001b[39;49m\u001b[43mdata_asset\u001b[49m\u001b[38;5;241;43m.\u001b[39;49m\u001b[43mbuild_batch_request\u001b[49m\u001b[43m(\u001b[49m\n\u001b[1;32m     65\u001b[0m \u001b[43m        \u001b[49m\u001b[43moptions\u001b[49m\u001b[38;5;241;43m=\u001b[39;49m\u001b[43mbatch_parameters\u001b[49m\u001b[43m,\u001b[49m\n\u001b[1;32m     66\u001b[0m \u001b[43m        \u001b[49m\u001b[43mpartitioner\u001b[49m\u001b[38;5;241;43m=\u001b[39;49m\u001b[38;5;28;43mself\u001b[39;49m\u001b[38;5;241;43m.\u001b[39;49m\u001b[43mpartitioner\u001b[49m\u001b[43m,\u001b[49m\n\u001b[1;32m     67\u001b[0m \u001b[43m    \u001b[49m\u001b[43m)\u001b[49m\n",
      "File \u001b[0;32m~/Codes/data-gathering-dag/venv/lib/python3.9/site-packages/great_expectations/datasource/fluent/pandas_datasource.py:406\u001b[0m, in \u001b[0;36mDataFrameAsset.build_batch_request\u001b[0;34m(self, options, batch_slice, partitioner)\u001b[0m\n\u001b[1;32m    400\u001b[0m     \u001b[38;5;28;01mraise\u001b[39;00m BuildBatchRequestError(\n\u001b[1;32m    401\u001b[0m         message\u001b[38;5;241m=\u001b[39m\u001b[38;5;124m\"\u001b[39m\u001b[38;5;124mpartitioner is not currently supported  for this DataAsset\u001b[39m\u001b[38;5;124m\"\u001b[39m\n\u001b[1;32m    402\u001b[0m         \u001b[38;5;124m\"\u001b[39m\u001b[38;5;124mand must be None.\u001b[39m\u001b[38;5;124m\"\u001b[39m\n\u001b[1;32m    403\u001b[0m     )\n\u001b[1;32m    405\u001b[0m \u001b[38;5;28;01mif\u001b[39;00m \u001b[38;5;129;01mnot\u001b[39;00m (options \u001b[38;5;129;01mis\u001b[39;00m \u001b[38;5;129;01mnot\u001b[39;00m \u001b[38;5;28;01mNone\u001b[39;00m \u001b[38;5;129;01mand\u001b[39;00m \u001b[38;5;124m\"\u001b[39m\u001b[38;5;124mdataframe\u001b[39m\u001b[38;5;124m\"\u001b[39m \u001b[38;5;129;01min\u001b[39;00m options \u001b[38;5;129;01mand\u001b[39;00m \u001b[38;5;28mlen\u001b[39m(options) \u001b[38;5;241m==\u001b[39m \u001b[38;5;241m1\u001b[39m):\n\u001b[0;32m--> 406\u001b[0m     \u001b[38;5;28;01mraise\u001b[39;00m BuildBatchRequestError(message\u001b[38;5;241m=\u001b[39m\u001b[38;5;124m\"\u001b[39m\u001b[38;5;124moptions must contain exactly 1 key, \u001b[39m\u001b[38;5;124m'\u001b[39m\u001b[38;5;124mdataframe\u001b[39m\u001b[38;5;124m'\u001b[39m\u001b[38;5;124m.\u001b[39m\u001b[38;5;124m\"\u001b[39m)\n\u001b[1;32m    408\u001b[0m \u001b[38;5;28;01mif\u001b[39;00m \u001b[38;5;129;01mnot\u001b[39;00m \u001b[38;5;28misinstance\u001b[39m(options[\u001b[38;5;124m\"\u001b[39m\u001b[38;5;124mdataframe\u001b[39m\u001b[38;5;124m\"\u001b[39m], pd\u001b[38;5;241m.\u001b[39mDataFrame):\n\u001b[1;32m    409\u001b[0m     \u001b[38;5;28;01mraise\u001b[39;00m BuildBatchRequestError(\n\u001b[1;32m    410\u001b[0m         message\u001b[38;5;241m=\u001b[39m\u001b[38;5;124m\"\u001b[39m\u001b[38;5;124mCannot build batch request for dataframe asset without a dataframe\u001b[39m\u001b[38;5;124m\"\u001b[39m\n\u001b[1;32m    411\u001b[0m     )\n",
      "\u001b[0;31mBuildBatchRequestError\u001b[0m: Bad input to build_batch_request: options must contain exactly 1 key, 'dataframe'."
     ]
    }
   ],
   "source": [
    "validation_results = validation_definition.run()"
   ]
  },
  {
   "cell_type": "code",
   "execution_count": 31,
   "metadata": {},
   "outputs": [
    {
     "name": "stderr",
     "output_type": "stream",
     "text": [
      "/home/vrcunha/Codes/data-gathering-dag/venv/lib/python3.9/site-packages/ipywidgets/widgets/widget.py:503: DeprecationWarning: The `ipykernel.comm.Comm` class has been deprecated. Please use the `comm` module instead.For creating comms, use the function `from comm import create_comm`.\n",
      "  self.comm = Comm(**args)\n"
     ]
    },
    {
     "data": {
      "application/vnd.jupyter.widget-view+json": {
       "model_id": "d0e11027ee9844d1abc80e7c8ecc7159",
       "version_major": 2,
       "version_minor": 0
      },
      "text/plain": [
       "Calculating Metrics:   0%|          | 0/2 [00:00<?, ?it/s]"
      ]
     },
     "metadata": {},
     "output_type": "display_data"
    },
    {
     "name": "stdout",
     "output_type": "stream",
     "text": [
      "{\n",
      "  \"meta\": {},\n",
      "  \"expectation_config\": {\n",
      "    \"meta\": {},\n",
      "    \"kwargs\": {\n",
      "      \"batch_id\": \"pandas_source-df_asset\",\n",
      "      \"column\": \"FAKER\"\n",
      "    },\n",
      "    \"type\": \"expect_column_to_exist\"\n",
      "  },\n",
      "  \"result\": {},\n",
      "  \"success\": false,\n",
      "  \"exception_info\": {\n",
      "    \"raised_exception\": false,\n",
      "    \"exception_traceback\": null,\n",
      "    \"exception_message\": null\n",
      "  }\n",
      "}\n"
     ]
    }
   ],
   "source": [
    "expectation = gx.expectations.ExpectColumnToExist(column=\"FAKER\")\n",
    "validation_results = batch.validate(expectation)\n",
    "print(validation_results)"
   ]
  },
  {
   "cell_type": "code",
   "execution_count": 30,
   "metadata": {},
   "outputs": [
    {
     "name": "stderr",
     "output_type": "stream",
     "text": [
      "/home/vrcunha/Codes/data-gathering-dag/venv/lib/python3.9/site-packages/ipywidgets/widgets/widget.py:503: DeprecationWarning: The `ipykernel.comm.Comm` class has been deprecated. Please use the `comm` module instead.For creating comms, use the function `from comm import create_comm`.\n",
      "  self.comm = Comm(**args)\n"
     ]
    },
    {
     "data": {
      "application/vnd.jupyter.widget-view+json": {
       "model_id": "89ef2cdf3b1840f0b194d1149fee7a9e",
       "version_major": 2,
       "version_minor": 0
      },
      "text/plain": [
       "Calculating Metrics:   0%|          | 0/8 [00:00<?, ?it/s]"
      ]
     },
     "metadata": {},
     "output_type": "display_data"
    },
    {
     "name": "stdout",
     "output_type": "stream",
     "text": [
      "{\n",
      "  \"meta\": {},\n",
      "  \"expectation_config\": {\n",
      "    \"meta\": {},\n",
      "    \"kwargs\": {\n",
      "      \"batch_id\": \"pandas_source-df_asset\",\n",
      "      \"column\": \"ID\"\n",
      "    },\n",
      "    \"type\": \"expect_column_values_to_not_be_null\"\n",
      "  },\n",
      "  \"result\": {\n",
      "    \"element_count\": 5,\n",
      "    \"unexpected_count\": 0,\n",
      "    \"unexpected_percent\": 0.0,\n",
      "    \"partial_unexpected_list\": [],\n",
      "    \"partial_unexpected_counts\": [],\n",
      "    \"partial_unexpected_index_list\": []\n",
      "  },\n",
      "  \"success\": true,\n",
      "  \"exception_info\": {\n",
      "    \"raised_exception\": false,\n",
      "    \"exception_traceback\": null,\n",
      "    \"exception_message\": null\n",
      "  }\n",
      "}\n"
     ]
    }
   ],
   "source": [
    "expectation = gx.expectations.ExpectColumnValuesToNotBeNull(column=\"ID\")\n",
    "validation_results = batch.validate(expectation)\n",
    "print(validation_results)"
   ]
  },
  {
   "cell_type": "code",
   "execution_count": 33,
   "metadata": {},
   "outputs": [
    {
     "name": "stderr",
     "output_type": "stream",
     "text": [
      "/home/vrcunha/Codes/data-gathering-dag/venv/lib/python3.9/site-packages/ipywidgets/widgets/widget.py:503: DeprecationWarning: The `ipykernel.comm.Comm` class has been deprecated. Please use the `comm` module instead.For creating comms, use the function `from comm import create_comm`.\n",
      "  self.comm = Comm(**args)\n"
     ]
    },
    {
     "data": {
      "application/vnd.jupyter.widget-view+json": {
       "model_id": "ba9dd8cbea1b488c9d1db5c398ac92ec",
       "version_major": 2,
       "version_minor": 0
      },
      "text/plain": [
       "Calculating Metrics:   0%|          | 0/10 [00:00<?, ?it/s]"
      ]
     },
     "metadata": {},
     "output_type": "display_data"
    },
    {
     "name": "stdout",
     "output_type": "stream",
     "text": [
      "{\n",
      "  \"meta\": {},\n",
      "  \"expectation_config\": {\n",
      "    \"meta\": {},\n",
      "    \"kwargs\": {\n",
      "      \"batch_id\": \"pandas_source-df_asset\",\n",
      "      \"column\": \"produto\",\n",
      "      \"value_set\": [\n",
      "        \"Laptop\",\n",
      "        \"Celular\",\n",
      "        \"Fone de Ouvido\",\n",
      "        \"Monitor\"\n",
      "      ]\n",
      "    },\n",
      "    \"type\": \"expect_column_values_to_be_in_set\"\n",
      "  },\n",
      "  \"result\": {\n",
      "    \"element_count\": 5,\n",
      "    \"unexpected_count\": 1,\n",
      "    \"unexpected_percent\": 20.0,\n",
      "    \"partial_unexpected_list\": [\n",
      "      \"Tablet\"\n",
      "    ],\n",
      "    \"missing_count\": 0,\n",
      "    \"missing_percent\": 0.0,\n",
      "    \"unexpected_percent_total\": 20.0,\n",
      "    \"unexpected_percent_nonmissing\": 20.0,\n",
      "    \"partial_unexpected_counts\": [\n",
      "      {\n",
      "        \"value\": \"Tablet\",\n",
      "        \"count\": 1\n",
      "      }\n",
      "    ],\n",
      "    \"partial_unexpected_index_list\": [\n",
      "      2\n",
      "    ]\n",
      "  },\n",
      "  \"success\": false,\n",
      "  \"exception_info\": {\n",
      "    \"raised_exception\": false,\n",
      "    \"exception_traceback\": null,\n",
      "    \"exception_message\": null\n",
      "  }\n",
      "}\n"
     ]
    }
   ],
   "source": [
    "expectation = gx.expectations.ExpectColumnValuesToBeInSet(column=\"produto\", value_set=[\"Laptop\", \"Celular\", \"Fone de Ouvido\", \"Monitor\"])\n",
    "validation_results = batch.validate(expectation)\n",
    "print(validation_results)"
   ]
  },
  {
   "cell_type": "code",
   "execution_count": 17,
   "metadata": {},
   "outputs": [],
   "source": [
    "import requests\n",
    "\n",
    "url = \"https://cnetmobile.estaleiro.serpro.gov.br/comprasnet-fase-externa/public/v1/compras/12000105000082022/itens/-10/itens-grupo?tamanhoPagina=10&pagina=0\""
   ]
  },
  {
   "cell_type": "code",
   "execution_count": 5,
   "metadata": {},
   "outputs": [
    {
     "data": {
      "text/plain": [
       "<Response [404]>"
      ]
     },
     "execution_count": 5,
     "metadata": {},
     "output_type": "execute_result"
    }
   ],
   "source": [
    "resp = requests.get(url)\n",
    "resp"
   ]
  },
  {
   "cell_type": "code",
   "execution_count": 3,
   "metadata": {},
   "outputs": [
    {
     "data": {
      "text/plain": [
       "[{'numero': 1,\n",
       "  'tipo': 'S',\n",
       "  'disputaPorValorUnitario': True,\n",
       "  'possuiOrcamentoSigiloso': False,\n",
       "  'identificador': '1',\n",
       "  'tipoItemCatalogo': 'M',\n",
       "  'descricao': 'Componente operativo - unidade refrigeração',\n",
       "  'criterioJulgamento': '1',\n",
       "  'homologado': True,\n",
       "  'situacaoEnvioResultado': 'SP',\n",
       "  'numeroSessaoJulgHab': 1,\n",
       "  'tipoTratamentoDiferenciadoMeEpp': '1',\n",
       "  'participacaoExclusivaMeEppOuEquiparadas': True,\n",
       "  'utilizaMargemPreferencia': False,\n",
       "  'situacao': '1',\n",
       "  'fase': 'AE',\n",
       "  'quantidadeSolicitada': 2,\n",
       "  'criterioValor': 'E',\n",
       "  'valorEstimado': 34145.62,\n",
       "  'valorEstimadoUnitario': 34145.62,\n",
       "  'valorEstimadoTotal': 68291.24,\n",
       "  'priorizarAbertura': False,\n",
       "  'julgHabEncerrada': True},\n",
       " {'numero': 2,\n",
       "  'tipo': 'S',\n",
       "  'disputaPorValorUnitario': True,\n",
       "  'possuiOrcamentoSigiloso': False,\n",
       "  'identificador': '2',\n",
       "  'tipoItemCatalogo': 'S',\n",
       "  'descricao': 'Instalação e Montagem de Instalações Frigoríficas',\n",
       "  'criterioJulgamento': '1',\n",
       "  'homologado': True,\n",
       "  'situacaoEnvioResultado': 'SP',\n",
       "  'numeroSessaoJulgHab': 1,\n",
       "  'tipoTratamentoDiferenciadoMeEpp': '1',\n",
       "  'participacaoExclusivaMeEppOuEquiparadas': True,\n",
       "  'utilizaMargemPreferencia': False,\n",
       "  'situacao': '1',\n",
       "  'fase': 'AE',\n",
       "  'quantidadeSolicitada': 2,\n",
       "  'criterioValor': 'E',\n",
       "  'valorEstimado': 7512.28,\n",
       "  'valorEstimadoUnitario': 7512.28,\n",
       "  'valorEstimadoTotal': 15024.56,\n",
       "  'priorizarAbertura': False,\n",
       "  'julgHabEncerrada': True}]"
      ]
     },
     "execution_count": 3,
     "metadata": {},
     "output_type": "execute_result"
    }
   ],
   "source": [
    "resp.json()"
   ]
  },
  {
   "cell_type": "code",
   "execution_count": null,
   "id": "d639bb7c",
   "metadata": {},
   "outputs": [],
   "source": [
    "\n",
    "import great_expectations as ge\n",
    "\n",
    "# Initialize data context\n",
    "context = ge.get_context()\n",
    "\n",
    "# Set the path for the data file and load it with Great Expectations\n",
    "data_path = '/mnt/data/outubro_enriquecimento_cnpj_br_baby_kids_cnpj.xlsx'\n",
    "data_asset_name = 'outubro_enriquecimento_cnpj_br_baby_kids_cnpj'\n",
    "\n",
    "# Load data and configure expectations\n",
    "df = ge.read_excel(data_path)\n",
    "expectation_suite_name = \"outubro_enriquecimento_suite\"\n",
    "if not context.list_expectation_suites():\n",
    "    context.create_expectation_suite(expectation_suite_name, overwrite_existing=True)\n"
   ]
  },
  {
   "cell_type": "code",
   "execution_count": null,
   "id": "cb633f2c",
   "metadata": {},
   "outputs": [],
   "source": [
    "\n",
    "# Define some example expectations\n",
    "df.expect_column_to_exist(\"CNPJ\")\n",
    "df.expect_column_values_to_be_unique(\"CNPJ\")\n",
    "df.expect_column_values_to_not_be_null(\"CNPJ\")\n",
    "df.expect_column_values_to_be_in_type_list(\"CNPJ\", [\"str\"])\n",
    "\n",
    "# Saving the validation results\n",
    "results = df.validate(expectation_suite_name=expectation_suite_name)\n",
    "context.build_data_docs()\n",
    "context.open_data_docs()\n"
   ]
  }
 ],
 "metadata": {
  "kernelspec": {
   "display_name": "Python 3",
   "language": "python",
   "name": "python3"
  },
  "language_info": {
   "codemirror_mode": {
    "name": "ipython",
    "version": 3
   },
   "file_extension": ".py",
   "mimetype": "text/x-python",
   "name": "python",
   "nbconvert_exporter": "python",
   "pygments_lexer": "ipython3",
   "version": "3.12.7"
  }
 },
 "nbformat": 4,
 "nbformat_minor": 2
}
